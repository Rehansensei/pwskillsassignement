{
  "nbformat": 4,
  "nbformat_minor": 0,
  "metadata": {
    "colab": {
      "provenance": []
    },
    "kernelspec": {
      "name": "python3",
      "display_name": "Python 3"
    },
    "language_info": {
      "name": "python"
    }
  },
  "cells": [
    {
      "cell_type": "code",
      "execution_count": 1,
      "metadata": {
        "id": "TjlRZ9EF-tLY",
        "colab": {
          "base_uri": "https://localhost:8080/"
        },
        "outputId": "67946702-641f-4c91-9b81-76fb01da969b"
      },
      "outputs": [
        {
          "output_type": "stream",
          "name": "stdout",
          "text": [
            "Original string: hello\n",
            "Reversed string (slicing): olleh\n",
            "Original string: hello\n",
            "Reversed string (reversed and join): olleh\n",
            "Original string: hello\n",
            "Reversed string (loop): olleh\n",
            "Original string: hello\n",
            "Reversed string (recursion): olleh\n"
          ]
        }
      ],
      "source": [
        "#1. Write a code to reverse a string.\n",
        "# Method 1: Using string slicing\n",
        "def reverse_string_slicing(s):\n",
        "    \"\"\"\n",
        "    Reverses a string using string slicing.\n",
        "\n",
        "    Args:\n",
        "      s: The string to reverse.\n",
        "\n",
        "    Returns:\n",
        "      The reversed string.\n",
        "    \"\"\"\n",
        "    return s[::-1]  # This is a simple and efficient way to reverse a string in Python\n",
        "\n",
        "# Method 2: Using reversed() and join()\n",
        "def reverse_string_reversed_join(s):\n",
        "    \"\"\"\n",
        "    Reverses a string using the reversed() function and join().\n",
        "\n",
        "    Args:\n",
        "        s: The string to reverse.\n",
        "\n",
        "    Returns:\n",
        "        The reversed string.\n",
        "    \"\"\"\n",
        "    return \"\".join(reversed(s))\n",
        "\n",
        "# Method 3: Using a loop\n",
        "def reverse_string_loop(s):\n",
        "    \"\"\"\n",
        "    Reverses a string using a loop.\n",
        "\n",
        "    Args:\n",
        "        s: The string to reverse.\n",
        "\n",
        "    Returns:\n",
        "        The reversed string.\n",
        "    \"\"\"\n",
        "    reversed_s = \"\"\n",
        "    for char in s:\n",
        "        reversed_s = char + reversed_s  # Prepend each character to the reversed string\n",
        "    return reversed_s\n",
        "\n",
        "# Method 4: Using recursion\n",
        "def reverse_string_recursion(s):\n",
        "    \"\"\"\n",
        "    Reverses a string using recursion.\n",
        "\n",
        "    Args:\n",
        "        s: The string to reverse.\n",
        "\n",
        "    Returns:\n",
        "        The reversed string.\n",
        "    \"\"\"\n",
        "    if len(s) == 0:\n",
        "        return s\n",
        "    else:\n",
        "        return reverse_string_recursion(s[1:]) + s[0]\n",
        "\n",
        "# Example Usage and testing\n",
        "original_string = \"hello\"\n",
        "\n",
        "#Test Method 1\n",
        "reversed_string_slicing = reverse_string_slicing(original_string)\n",
        "print(\"Original string:\", original_string)\n",
        "print(\"Reversed string (slicing):\", reversed_string_slicing)\n",
        "\n",
        "# Test Method 2\n",
        "reversed_string_reversed_join = reverse_string_reversed_join(original_string)\n",
        "print(\"Original string:\", original_string)\n",
        "print(\"Reversed string (reversed and join):\", reversed_string_reversed_join)\n",
        "\n",
        "# Test Method 3\n",
        "reversed_string_loop = reverse_string_loop(original_string)\n",
        "print(\"Original string:\", original_string)\n",
        "print(\"Reversed string (loop):\", reversed_string_loop)\n",
        "\n",
        "# Test Method 4\n",
        "reversed_string_recursion = reverse_string_recursion(original_string)\n",
        "print(\"Original string:\", original_string)\n",
        "print(\"Reversed string (recursion):\", reversed_string_recursion)"
      ]
    },
    {
      "cell_type": "code",
      "source": [
        "#2. Write a code to count the number of vowels in a string.\n",
        "def count_vowels(string):\n",
        "  \"\"\"\n",
        "  Counts the number of vowels in a given string.\n",
        "\n",
        "  Args:\n",
        "    string: The input string.\n",
        "\n",
        "  Returns:\n",
        "    The count of vowels in the string.\n",
        "  \"\"\"\n",
        "  vowels = \"aeiouAEIOU\"\n",
        "  count = 0\n",
        "  for char in string:\n",
        "    if char in vowels:\n",
        "      count += 1\n",
        "  return count\n",
        "\n",
        "# Example usage:\n",
        "string = \"Hello, world!\"\n",
        "vowel_count = count_vowels(string)\n",
        "print(f\"The number of vowels in '{string}' is: {vowel_count}\")\n",
        ""
      ],
      "metadata": {
        "id": "M-nITvdv-5gZ",
        "colab": {
          "base_uri": "https://localhost:8080/"
        },
        "outputId": "83d0adb4-2984-4d04-923b-0a2c52d1cfb4"
      },
      "execution_count": 3,
      "outputs": [
        {
          "output_type": "stream",
          "name": "stdout",
          "text": [
            "The number of vowels in 'Hello, world!' is: 3\n"
          ]
        }
      ]
    },
    {
      "cell_type": "code",
      "source": [
        "#3. Write a code to check if a given string is a palindrome or not.\n",
        "def is_palindrome(s):\n",
        "    \"\"\"\n",
        "    Checks if a given string is a palindrome.\n",
        "\n",
        "    Args:\n",
        "        s: The input string.\n",
        "\n",
        "    Returns:\n",
        "        True if the string is a palindrome, False otherwise.\n",
        "    \"\"\"\n",
        "\n",
        "    # Remove spaces and convert to lowercase for case-insensitive check\n",
        "    s = s.replace(\" \", \"\").lower()\n",
        "\n",
        "    # Compare the string with its reversed version\n",
        "    return s == s[::-1]\n",
        "\n",
        "# Get input from the user\n",
        "string = input(\"Enter a string: \")\n",
        "\n",
        "# Check if the string is a palindrome\n",
        "if is_palindrome(string):\n",
        "    print(\"The string is a palindrome.\")\n",
        "else:\n",
        "    print(\"The string is not a palindrome.\")"
      ],
      "metadata": {
        "id": "KMtRKaR7XcUD",
        "colab": {
          "base_uri": "https://localhost:8080/"
        },
        "outputId": "e6de6804-ca86-4942-92c8-574ba086ad9f"
      },
      "execution_count": 4,
      "outputs": [
        {
          "output_type": "stream",
          "name": "stdout",
          "text": [
            "Enter a string: Rehan\n",
            "The string is not a palindrome.\n"
          ]
        }
      ]
    },
    {
      "cell_type": "code",
      "source": [
        "#4. Write a code to check if two given strings are anagrams of each other\n",
        "def are_anagrams(str1, str2):\n",
        "  \"\"\"\n",
        "  Checks if two given strings are anagrams of each other.\n",
        "\n",
        "  Args:\n",
        "    str1: The first string.\n",
        "    str2: The second string.\n",
        "\n",
        "  Returns:\n",
        "    True if the strings are anagrams, False otherwise.\n",
        "  \"\"\"\n",
        "\n",
        "  # Remove spaces and convert to lowercase for case-insensitive comparison\n",
        "  str1 = str1.replace(\" \", \"\").lower()\n",
        "  str2 = str2.replace(\" \", \"\").lower()\n",
        "\n",
        "  # Check if the lengths of the strings are equal\n",
        "  if len(str1) != len(str2):\n",
        "    return False\n",
        "\n",
        "  # Create dictionaries to count the frequency of characters in each string\n",
        "  char_count1 = {}\n",
        "  char_count2 = {}\n",
        "\n",
        "  for char in str1:\n",
        "    char_count1[char] = char_count1.get(char, 0) + 1\n",
        "\n",
        "  for char in str2:\n",
        "    char_count2[char] = char_count2.get(char, 0) + 1\n",
        "\n",
        "  # Compare the character frequencies\n",
        "  return char_count1 == char_count2\n",
        "\n",
        "# Get input from the user\n",
        "string1 = input(\"Enter the first string: \")\n",
        "string2 = input(\"Enter the second string: \")\n",
        "\n",
        "# Check if the strings are anagrams\n",
        "if are_anagrams(string1, string2):\n",
        "  print(\"The strings are anagrams.\")\n",
        "else:\n",
        "  print(\"The strings are not anagrams.\")"
      ],
      "metadata": {
        "id": "QaOOlFscIkaY",
        "colab": {
          "base_uri": "https://localhost:8080/"
        },
        "outputId": "a5009ac6-ed06-4062-befe-e2be1f8ae815"
      },
      "execution_count": 5,
      "outputs": [
        {
          "output_type": "stream",
          "name": "stdout",
          "text": [
            "Enter the first string: Rehan\n",
            "Enter the second string: Shaikh\n",
            "The strings are not anagrams.\n"
          ]
        }
      ]
    },
    {
      "cell_type": "code",
      "source": [
        "#\t5.Write a code to find all occurrences of a given substring within another string\n",
        "def find_all_occurrences(string, substring):\n",
        "  \"\"\"\n",
        "  Finds all occurrences of a given substring within another string.\n",
        "\n",
        "  Args:\n",
        "    string: The main string.\n",
        "    substring: The substring to find.\n",
        "\n",
        "  Returns:\n",
        "    A list of indices where the substring starts in the main string.\n",
        "  \"\"\"\n",
        "\n",
        "  indices =\n",
        "  index = 0\n",
        "  while True:\n",
        "    index = string.find(substring, index)\n",
        "    if index == -1:\n",
        "      break\n",
        "    indices.append(index)\n",
        "    index += 1\n",
        "\n",
        "  return indices\n",
        "\n",
        "# Example usage:\n",
        "main_string = \"This is a test string. This string contains the word 'This'.\"\n",
        "substring = \"This\"\n",
        "\n",
        "occurrences = find_all_occurrences(main_string, substring)\n",
        "\n",
        "if occurrences:\n",
        "  print(f\"Found '{substring}' at indices:\", occurrences)\n",
        "else:\n",
        "  print(f\"'{substring}' not found in the string.\")"
      ],
      "metadata": {
        "id": "CakZgxj0YYzl"
      },
      "execution_count": null,
      "outputs": []
    },
    {
      "cell_type": "code",
      "source": [
        "#6.Write a code to perform basic string compression using the counts of repeated characters.\n",
        "def compress_string(s):\n",
        "    \"\"\"\n",
        "    Performs basic string compression using the counts of repeated characters.\n",
        "\n",
        "    Args:\n",
        "        s: The input string.\n",
        "\n",
        "    Returns:\n",
        "        The compressed string if it's shorter than the original,\n",
        "        otherwise the original string.\n",
        "    \"\"\"\n",
        "\n",
        "    if not s:\n",
        "        return s\n",
        "\n",
        "    compressed = \"\"\n",
        "    count = 1\n",
        "\n",
        "    for i in range(1, len(s)):\n",
        "        if s[i] == s[i - 1]:\n",
        "            count += 1\n",
        "        else:\n",
        "            compressed += s[i - 1] + str(count) if count > 1 else s[i - 1]\n",
        "            count = 1\n",
        "\n",
        "    compressed += s[i] + str(count) if count > 1 else s[i]\n",
        "\n",
        "    return compressed if len(compressed) < len(s) else s\n",
        "\n",
        "# Example usage:\n",
        "string = \"aabcccccaaa\"\n",
        "compressed_string = compress_string(string)\n",
        "print(f\"Original string: {string}\")\n",
        "print(f\"Compressed string: {compressed_string}\")"
      ],
      "metadata": {
        "id": "X119OErmYg22",
        "colab": {
          "base_uri": "https://localhost:8080/"
        },
        "outputId": "a589e9e8-dc5a-4d4f-8d52-ff9748dff5b6"
      },
      "execution_count": 1,
      "outputs": [
        {
          "output_type": "stream",
          "name": "stdout",
          "text": [
            "Original string: aabcccccaaa\n",
            "Compressed string: a2bc5a3\n"
          ]
        }
      ]
    },
    {
      "cell_type": "code",
      "source": [
        "#7. Write a code to determine if a string has all unique characters.\n",
        "def has_unique_characters(string):\n",
        "  \"\"\"\n",
        "  Checks if a given string has all unique characters.\n",
        "\n",
        "  Args:\n",
        "    string: The input string.\n",
        "\n",
        "  Returns:\n",
        "    True if all characters are unique, False otherwise.\n",
        "  \"\"\"\n",
        "\n",
        "  # Use a set to efficiently track encountered characters\n",
        "  seen_chars = set()\n",
        "\n",
        "  for char in string:\n",
        "    if char in seen_chars:\n",
        "      return False  # Duplicate character found\n",
        "    seen_chars.add(char)\n",
        "\n",
        "  return True\n",
        "\n",
        "# Example usage:\n",
        "string1 = \"abcde\"\n",
        "string2 = \"hello\"\n",
        "\n",
        "print(f\"{string1} has all unique characters:\", has_unique_characters(string1))\n",
        "print(f\"{string2} has all unique characters:\", has_unique_characters(string2))"
      ],
      "metadata": {
        "colab": {
          "base_uri": "https://localhost:8080/"
        },
        "id": "9swqLCSv_TpC",
        "outputId": "0472112e-b1c7-4f88-f20d-c72698fb72a5"
      },
      "execution_count": 1,
      "outputs": [
        {
          "output_type": "stream",
          "name": "stdout",
          "text": [
            "abcde has all unique characters: True\n",
            "hello has all unique characters: False\n"
          ]
        }
      ]
    },
    {
      "cell_type": "code",
      "source": [
        "#8.Write a code to convert a given string to uppercase or lowercase.\n",
        "def convert_case(string, case):\n",
        "  \"\"\"\n",
        "  Converts a given string to uppercase or lowercase.\n",
        "\n",
        "  Args:\n",
        "    string: The input string.\n",
        "    case: The desired case, either \"upper\" or \"lower\".\n",
        "\n",
        "  Returns:\n",
        "    The converted string.\n",
        "  \"\"\"\n",
        "\n",
        "  if case == \"upper\":\n",
        "    return string.upper()\n",
        "  elif case == \"lower\":\n",
        "    return string.lower()\n",
        "  else:\n",
        "    raise ValueError(\"Invalid case. Please specify 'upper' or 'lower'.\")\n",
        "\n",
        "# Example usage:\n",
        "my_string = \"Hello, World!\"\n",
        "\n",
        "uppercase_string = convert_case(my_string, \"upper\")\n",
        "print(\"Uppercase:\", uppercase_string)\n",
        "\n",
        "lowercase_string = convert_case(my_string, \"lower\")\n",
        "print(\"Lowercase:\", lowercase_string)"
      ],
      "metadata": {
        "colab": {
          "base_uri": "https://localhost:8080/"
        },
        "id": "gnVFo8A-kBZq",
        "outputId": "5212cf1c-c895-4e19-d8c6-65f429a9b76d"
      },
      "execution_count": 2,
      "outputs": [
        {
          "output_type": "stream",
          "name": "stdout",
          "text": [
            "Uppercase: HELLO, WORLD!\n",
            "Lowercase: hello, world!\n"
          ]
        }
      ]
    },
    {
      "cell_type": "code",
      "source": [
        "#9.Write a code to count the number of words in a string.\n",
        "def count_words(string):\n",
        "  \"\"\"\n",
        "  Counts the number of words in a given string.\n",
        "\n",
        "  Args:\n",
        "    string: The input string.\n",
        "\n",
        "  Returns:\n",
        "    The number of words in the string.\n",
        "  \"\"\"\n",
        "\n",
        "  words = string.split()\n",
        "  return len(words)\n",
        "\n",
        "# Example usage:\n",
        "my_string = \"This is a sample string with multiple words.\"\n",
        "word_count = count_words(my_string)\n",
        "print(f\"The number of words in the string is: {word_count}\")"
      ],
      "metadata": {
        "colab": {
          "base_uri": "https://localhost:8080/"
        },
        "id": "_hOoxGNmkb4u",
        "outputId": "b4279be5-5b9e-4b21-ae97-0646da989aa3"
      },
      "execution_count": 3,
      "outputs": [
        {
          "output_type": "stream",
          "name": "stdout",
          "text": [
            "The number of words in the string is: 8\n"
          ]
        }
      ]
    },
    {
      "cell_type": "code",
      "source": [
        "#10.Write a code to concatenate two strings without using the + operator\n",
        "def concatenate_strings(str1, str2):\n",
        "  \"\"\"\n",
        "  Concatenates two strings without using the + operator.\n",
        "\n",
        "  Args:\n",
        "    str1: The first string.\n",
        "    str2: The second string.\n",
        "\n",
        "  Returns:\n",
        "    The concatenated string.\n",
        "  \"\"\"\n",
        "\n",
        "  # Create a list containing the two strings\n",
        "  string_list = [str1, str2]\n",
        "\n",
        "  # Join the elements of the list into a single string\n",
        "  concatenated_string = \"\".join(string_list)\n",
        "\n",
        "  return concatenated_string\n",
        "\n",
        "# Example usage:\n",
        "string1 = \"PW\"\n",
        "string2 = \"Skills\"\n",
        "\n",
        "result = concatenate_strings(string1, string2)\n",
        "print(result)"
      ],
      "metadata": {
        "colab": {
          "base_uri": "https://localhost:8080/"
        },
        "id": "4w_Ywwt9lZY6",
        "outputId": "a8c53728-6756-4552-e72d-d0f58a65b798"
      },
      "execution_count": 7,
      "outputs": [
        {
          "output_type": "stream",
          "name": "stdout",
          "text": [
            "PWSkills\n"
          ]
        }
      ]
    },
    {
      "cell_type": "code",
      "source": [
        "#11. Write a code to remove all occurrences of a specific element from a list\n",
        "def remove_all_occurrences(lst, element):\n",
        "  \"\"\"\n",
        "  Removes all occurrences of a specific element from a list.\n",
        "\n",
        "  Args:\n",
        "    lst: The input list.\n",
        "    element: The element to be removed.\n",
        "\n",
        "  Returns:\n",
        "    A new list without the specified element.\n",
        "  \"\"\"\n",
        "\n",
        "  return [item for item in lst if item != element]\n",
        "\n",
        "# Example usage:\n",
        "my_list = [1, 2, 3, 2, 4, 2, 5]\n",
        "element_to_remove = 2\n",
        "\n",
        "new_list = remove_all_occurrences(my_list, element_to_remove)\n",
        "print(\"Original list:\", my_list)\n",
        "print(\"List after removal:\", new_list)"
      ],
      "metadata": {
        "colab": {
          "base_uri": "https://localhost:8080/"
        },
        "id": "IVbWAAv1lp2D",
        "outputId": "54a17597-92e4-4430-f93d-ef6b60c2c2c1"
      },
      "execution_count": 8,
      "outputs": [
        {
          "output_type": "stream",
          "name": "stdout",
          "text": [
            "Original list: [1, 2, 3, 2, 4, 2, 5]\n",
            "List after removal: [1, 3, 4, 5]\n"
          ]
        }
      ]
    },
    {
      "cell_type": "code",
      "source": [
        "#12.Implement a code to find the second largest number in a given list of integers\n",
        "def find_second_largest(nums):\n",
        "    \"\"\"\n",
        "    Finds the second largest number in a list of integers.\n",
        "\n",
        "    Args:\n",
        "      nums: A list of integers.\n",
        "\n",
        "    Returns:\n",
        "      The second largest number in the list, or None if the list has less than\n",
        "      two elements.\n",
        "    \"\"\"\n",
        "\n",
        "    if len(nums) < 2:\n",
        "        return None\n",
        "\n",
        "    largest = float('-inf')\n",
        "    second_largest = float('-inf')\n",
        "\n",
        "    for num in nums:\n",
        "        if num > largest:\n",
        "            second_largest = largest\n",
        "            largest = num\n",
        "        elif num > second_largest and num != largest:\n",
        "            second_largest = num\n",
        "\n",
        "    return second_largest\n",
        "\n",
        "# Example usage:\n",
        "my_list = [10, 5, 20, 8, 15, 20]\n",
        "second_largest_num = find_second_largest(my_list)\n",
        "\n",
        "if second_largest_num is not None:\n",
        "    print(\"The second largest number is:\", second_largest_num)\n",
        "else:\n",
        "    print(\"The list does not have enough elements.\")"
      ],
      "metadata": {
        "colab": {
          "base_uri": "https://localhost:8080/"
        },
        "id": "zcwLRvwnmnzu",
        "outputId": "38550220-d74e-477f-c157-70b8027388cb"
      },
      "execution_count": 9,
      "outputs": [
        {
          "output_type": "stream",
          "name": "stdout",
          "text": [
            "The second largest number is: 15\n"
          ]
        }
      ]
    },
    {
      "cell_type": "code",
      "source": [
        "#13. Create a code to count the occurrences of each element in a list and return a dictionary with elements as keys and their counts as values.\n",
        "\n",
        "from collections import Counter\n",
        "\n",
        "def count_occurrences(lst):\n",
        "  \"\"\"\n",
        "  Counts the occurrences of each element in a list and returns a dictionary.\n",
        "\n",
        "  Args:\n",
        "    lst: The input list.\n",
        "\n",
        "  Returns:\n",
        "    A dictionary where keys are elements and values are their counts.\n",
        "  \"\"\"\n",
        "  return Counter(lst)\n",
        "\n",
        "# Example usage:\n",
        "my_list = [1, 2, 3, 1, 2, 1, 3, 4, 5, 4, 2, 2]\n",
        "result = count_occurrences(my_list)\n",
        "print(result)  # Output: {1: 3, 2: 4, 3: 2, 4: 2, 5: 1}"
      ],
      "metadata": {
        "colab": {
          "base_uri": "https://localhost:8080/"
        },
        "id": "5A2B3_VMmXFi",
        "outputId": "1247d8fa-4428-4559-89a0-3aa093d8aa86"
      },
      "execution_count": 10,
      "outputs": [
        {
          "output_type": "stream",
          "name": "stdout",
          "text": [
            "Counter({2: 4, 1: 3, 3: 2, 4: 2, 5: 1})\n"
          ]
        }
      ]
    },
    {
      "cell_type": "code",
      "source": [
        "#14.  Write a code to reverse a list in-place without using any built-in reverse functions.\n",
        "def reverse_list_in_place(lst):\n",
        "  \"\"\"\n",
        "  Reverses a list in-place without using any built-in reverse functions.\n",
        "\n",
        "  Args:\n",
        "    lst: The list to be reversed.\n",
        "\n",
        "  Modifies the input list directly.\n",
        "  \"\"\"\n",
        "\n",
        "  left = 0\n",
        "  right = len(lst) - 1\n",
        "\n",
        "  while left < right:\n",
        "    # Swap elements at left and right indices\n",
        "    lst[left], lst[right] = lst[right], lst[left]\n",
        "    left += 1\n",
        "    right -= 1\n",
        "\n",
        "# Example usage:\n",
        "my_list = [1, 2, 3, 4, 5]\n",
        "reverse_list_in_place(my_list)\n",
        "print(my_list)  # Output: [5, 4, 3, 2, 1]"
      ],
      "metadata": {
        "colab": {
          "base_uri": "https://localhost:8080/"
        },
        "id": "lhwV5uZqnQjV",
        "outputId": "3b1ccff1-fa0b-4d0f-c4a3-0c20c7f5141b"
      },
      "execution_count": 11,
      "outputs": [
        {
          "output_type": "stream",
          "name": "stdout",
          "text": [
            "[5, 4, 3, 2, 1]\n"
          ]
        }
      ]
    },
    {
      "cell_type": "code",
      "source": [
        "#15. Implement a code to find and remove duplicates from a list while preserving the original order of elements\n",
        "from collections import OrderedDict\n",
        "\n",
        "def remove_duplicates_preserve_order(lst):\n",
        "  \"\"\"\n",
        "  Removes duplicates from a list while preserving the original order of elements.\n",
        "\n",
        "  Args:\n",
        "    lst: The input list.\n",
        "\n",
        "  Returns:\n",
        "    A new list with duplicates removed, preserving the original order.\n",
        "  \"\"\"\n",
        "  return list(OrderedDict.fromkeys(lst))\n",
        "\n",
        "# Example usage:\n",
        "my_list = [1, 2, 2, 3, 4, 4, 5]\n",
        "unique_list = remove_duplicates_preserve_order(my_list)\n",
        "print(\"Original list:\", my_list)\n",
        "print(\"List with duplicates removed:\", unique_list)"
      ],
      "metadata": {
        "colab": {
          "base_uri": "https://localhost:8080/"
        },
        "id": "LCrWhzBSnjCb",
        "outputId": "0f0d5e7f-8f4d-4ddd-a1d5-4db6987dc085"
      },
      "execution_count": 12,
      "outputs": [
        {
          "output_type": "stream",
          "name": "stdout",
          "text": [
            "Original list: [1, 2, 2, 3, 4, 4, 5]\n",
            "List with duplicates removed: [1, 2, 3, 4, 5]\n"
          ]
        }
      ]
    },
    {
      "cell_type": "code",
      "source": [
        "#16.Create a code to check if a given list is sorted (either in ascending or descending order) or not\n",
        "def is_sorted(lst):\n",
        "  \"\"\"\n",
        "  Checks if a given list is sorted (either in ascending or descending order).\n",
        "\n",
        "  Args:\n",
        "    lst: The input list.\n",
        "\n",
        "  Returns:\n",
        "    \"ascending\" if the list is sorted in ascending order.\n",
        "    \"descending\" if the list is sorted in descending order.\n",
        "    \"unsorted\" if the list is not sorted.\n",
        "  \"\"\"\n",
        "\n",
        "  if len(lst) <= 1:\n",
        "    return \"sorted\"  # Lists with 0 or 1 element are always considered sorted\n",
        "\n",
        "  is_ascending = all(lst[i] <= lst[i + 1] for i in range(len(lst) - 1))\n",
        "  is_descending = all(lst[i] >= lst[i + 1] for i in range(len(lst) - 1))\n",
        "\n",
        "  if is_ascending:\n",
        "    return \"ascending\"\n",
        "  elif is_descending:\n",
        "    return \"descending\"\n",
        "  else:\n",
        "    return \"unsorted\"\n",
        "\n",
        "# Example usage:\n",
        "list1 = [1, 2, 3, 4, 5]\n",
        "list2 = [5, 4, 3, 2, 1]\n",
        "list3 = [1, 3, 2, 4, 5]\n",
        "list4 = [1]\n",
        "list5 = []\n",
        "\n",
        "print(f\"List1: {list1} is {is_sorted(list1)}\")\n",
        "print(f\"List2: {list2} is {is_sorted(list2)}\")\n",
        "print(f\"List3: {list3} is {is_sorted(list3)}\")\n",
        "print(f\"List4: {list4} is {is_sorted(list4)}\")\n",
        "print(f\"List5: {list5} is {is_sorted(list5)}\")"
      ],
      "metadata": {
        "colab": {
          "base_uri": "https://localhost:8080/"
        },
        "id": "ILGGRE_Hn3Hz",
        "outputId": "2c1f58e3-09a9-4676-fe72-819c7642602f"
      },
      "execution_count": 13,
      "outputs": [
        {
          "output_type": "stream",
          "name": "stdout",
          "text": [
            "List1: [1, 2, 3, 4, 5] is ascending\n",
            "List2: [5, 4, 3, 2, 1] is descending\n",
            "List3: [1, 3, 2, 4, 5] is unsorted\n",
            "List4: [1] is sorted\n",
            "List5: [] is sorted\n"
          ]
        }
      ]
    },
    {
      "cell_type": "code",
      "source": [
        "#17.Write a code to merge two sorted lists into a single sorted list.\n",
        "def merge_sorted_lists(list1, list2):\n",
        "  \"\"\"\n",
        "  Merges two sorted lists into a single sorted list.\n",
        "\n",
        "  Args:\n",
        "    list1: The first sorted list.\n",
        "    list2: The second sorted list.\n",
        "\n",
        "  Returns:\n",
        "    A new sorted list containing all elements from both input lists.\n",
        "  \"\"\"\n",
        "\n",
        "  merged_list = []\n",
        "  i = 0\n",
        "  j = 0\n",
        "\n",
        "  while i < len(list1) and j < len(list2):\n",
        "    if list1[i] <= list2[j]:\n",
        "      merged_list.append(list1[i])\n",
        "      i += 1\n",
        "    else:\n",
        "      merged_list.append(list2[j])\n",
        "      j += 1\n",
        "\n",
        "  # Append any remaining elements from list1\n",
        "  while i < len(list1):\n",
        "    merged_list.append(list1[i])\n",
        "    i += 1\n",
        "\n",
        "  # Append any remaining elements from list2\n",
        "  while j < len(list2):\n",
        "    merged_list.append(list2[j])\n",
        "    j += 1\n",
        "\n",
        "  return merged_list\n",
        "\n",
        "# Example usage:\n",
        "list1 = [1, 3, 5]\n",
        "list2 = [2, 4, 6]\n",
        "merged_list = merge_sorted_lists(list1, list2)\n",
        "print(\"Merged list:\", merged_list)  # Output: [1, 2, 3, 4, 5, 6]"
      ],
      "metadata": {
        "colab": {
          "base_uri": "https://localhost:8080/"
        },
        "id": "hytcYwkioEu0",
        "outputId": "c1719598-4ab8-4352-d327-75c28090309b"
      },
      "execution_count": 14,
      "outputs": [
        {
          "output_type": "stream",
          "name": "stdout",
          "text": [
            "Merged list: [1, 2, 3, 4, 5, 6]\n"
          ]
        }
      ]
    },
    {
      "cell_type": "code",
      "source": [
        "#18.Implement a code to find the intersection of two given lists\n",
        "def find_intersection(list1, list2):\n",
        "  \"\"\"\n",
        "  Finds the intersection of two given lists.\n",
        "\n",
        "  Args:\n",
        "    list1: The first list.\n",
        "    list2: The second list.\n",
        "\n",
        "  Returns:\n",
        "    A list containing the common elements of both input lists.\n",
        "  \"\"\"\n",
        "\n",
        "  # Method 1: Using set intersection\n",
        "  # Convert lists to sets for efficient intersection\n",
        "  set1 = set(list1)\n",
        "  set2 = set(list2)\n",
        "  intersection_set = set1.intersection(set2)\n",
        "  return list(intersection_set)\n",
        "\n",
        "  # Method 2: Using list comprehension\n",
        "  # intersection_list = [x for x in list1 if x in list2]\n",
        "  # return intersection_list\n",
        "\n",
        "# Example usage:\n",
        "list1 = [1, 2, 3, 4, 5]\n",
        "list2 = [3, 4, 5, 6, 7]\n",
        "intersection = find_intersection(list1, list2)\n",
        "print(\"Intersection:\", intersection)  # Output: [3, 4, 5]"
      ],
      "metadata": {
        "colab": {
          "base_uri": "https://localhost:8080/"
        },
        "id": "A2cNYbRcoati",
        "outputId": "fa833681-35ad-4dbb-e9cb-c0039727b8d6"
      },
      "execution_count": 15,
      "outputs": [
        {
          "output_type": "stream",
          "name": "stdout",
          "text": [
            "Intersection: [3, 4, 5]\n"
          ]
        }
      ]
    },
    {
      "cell_type": "code",
      "source": [
        "#19. Create a code to find the union of two lists without duplicates\n",
        "def find_union(list1, list2):\n",
        "  \"\"\"\n",
        "  Finds the union of two lists without duplicates.\n",
        "\n",
        "  Args:\n",
        "    list1: The first list.\n",
        "    list2: The second list.\n",
        "\n",
        "  Returns:\n",
        "    A list containing the unique elements from both input lists.\n",
        "  \"\"\"\n",
        "\n",
        "  # Convert lists to sets to automatically remove duplicates\n",
        "  set1 = set(list1)\n",
        "  set2 = set(list2)\n",
        "\n",
        "  # Combine sets using the union operator (|)\n",
        "  union_set = set1 | set2\n",
        "\n",
        "  # Convert the set back to a list\n",
        "  return list(union_set)\n",
        "\n",
        "# Example usage:\n",
        "list1 = [1, 2, 3, 4, 5]\n",
        "list2 = [3, 4, 5, 6, 7]\n",
        "union = find_union(list1, list2)\n",
        "print(\"Union:\", union)  # Output: [1, 2, 3, 4, 5, 6, 7]"
      ],
      "metadata": {
        "colab": {
          "base_uri": "https://localhost:8080/"
        },
        "id": "v3hhWyVboo1-",
        "outputId": "8adda822-6f2e-4230-dbab-4e08b7beca9d"
      },
      "execution_count": 16,
      "outputs": [
        {
          "output_type": "stream",
          "name": "stdout",
          "text": [
            "Union: [1, 2, 3, 4, 5, 6, 7]\n"
          ]
        }
      ]
    },
    {
      "cell_type": "code",
      "source": [
        "#20.  Write a code to shuffle a given list randomly without using any built-in shuffle functions\n",
        "import random\n",
        "\n",
        "def shuffle_list(lst):\n",
        "  \"\"\"\n",
        "  Shuffles a given list randomly without using any built-in shuffle functions.\n",
        "\n",
        "  Args:\n",
        "    lst: The list to be shuffled.\n",
        "\n",
        "  Returns:\n",
        "    A new shuffled list.\n",
        "  \"\"\"\n",
        "\n",
        "  shuffled_list = lst.copy()  # Create a copy to avoid modifying the original list\n",
        "  for i in range(len(shuffled_list) - 1, 0, -1):\n",
        "    j = random.randint(0, i)\n",
        "    shuffled_list[i], shuffled_list[j] = shuffled_list[j], shuffled_list[i]\n",
        "  return shuffled_list\n",
        "\n",
        "# Example usage:\n",
        "my_list = [1, 2, 3, 4, 5]\n",
        "shuffled_list = shuffle_list(my_list)\n",
        "print(\"Original list:\", my_list)\n",
        "print(\"Shuffled list:\", shuffled_list)"
      ],
      "metadata": {
        "colab": {
          "base_uri": "https://localhost:8080/"
        },
        "id": "pPqM65vwo4PM",
        "outputId": "b5ce48fa-3b9b-4968-c6ae-b29fa6bb61a6"
      },
      "execution_count": 17,
      "outputs": [
        {
          "output_type": "stream",
          "name": "stdout",
          "text": [
            "Original list: [1, 2, 3, 4, 5]\n",
            "Shuffled list: [4, 3, 1, 2, 5]\n"
          ]
        }
      ]
    },
    {
      "cell_type": "code",
      "source": [
        "#21.Write a code that takes two tuples as input and returns a new tuple containing elements that are common to both input tuples\n",
        "def find_common_elements(tuple1, tuple2):\n",
        "  \"\"\"\n",
        "  Finds the common elements between two tuples.\n",
        "\n",
        "  Args:\n",
        "    tuple1: The first input tuple.\n",
        "    tuple2: The second input tuple.\n",
        "\n",
        "  Returns:\n",
        "    A new tuple containing the common elements.\n",
        "  \"\"\"\n",
        "\n",
        "  # Convert tuples to sets for efficient intersection\n",
        "  set1 = set(tuple1)\n",
        "  set2 = set(tuple2)\n",
        "\n",
        "  # Find the intersection of the sets\n",
        "  common_elements = set1.intersection(set2)\n",
        "\n",
        "  # Convert the set back to a tuple\n",
        "  return tuple(common_elements)\n",
        "\n",
        "# Example usage:\n",
        "tuple1 = (1, 2, 3, 4, 5)\n",
        "tuple2 = (3, 4, 5, 6, 7)\n",
        "common_elements = find_common_elements(tuple1, tuple2)\n",
        "print(\"Common elements:\", common_elements)  # Output: (3, 4, 5)"
      ],
      "metadata": {
        "colab": {
          "base_uri": "https://localhost:8080/"
        },
        "id": "a7ONwExLpp9u",
        "outputId": "f7238be7-5c45-4e73-f60e-bf985013b011"
      },
      "execution_count": 18,
      "outputs": [
        {
          "output_type": "stream",
          "name": "stdout",
          "text": [
            "Common elements: (3, 4, 5)\n"
          ]
        }
      ]
    },
    {
      "cell_type": "code",
      "source": [
        "# 22.Create a code that prompts the user to enter two sets of integers separated\n",
        "# by commas. Then, print the intersection of these two sets\n",
        "def get_user_input():\n",
        "  \"\"\"\n",
        "  Prompts the user to enter two sets of integers separated by commas.\n",
        "\n",
        "  Returns:\n",
        "    A tuple containing two lists, each representing a set of integers.\n",
        "  \"\"\"\n",
        "  set1_str = input(\"Enter the first set of integers (comma-separated): \")\n",
        "  set2_str = input(\"Enter the second set of integers (comma-separated): \")\n",
        "\n",
        "  try:\n",
        "    set1 = [int(x) for x in set1_str.split(',')]\n",
        "    set2 = [int(x) for x in set2_str.split(',')]\n",
        "    return set1, set2\n",
        "  except ValueError:\n",
        "    print(\"Invalid input. Please enter only integers separated by commas.\")\n",
        "    return [], []\n",
        "\n",
        "def find_intersection(set1, set2):\n",
        "  \"\"\"\n",
        "  Finds the intersection of two sets of integers.\n",
        "\n",
        "  Args:\n",
        "    set1: The first set of integers.\n",
        "    set2: The second set of integers.\n",
        "\n",
        "  Returns:\n",
        "    A list containing the common integers.\n",
        "  \"\"\"\n",
        "  return list(set(set1) & set(set2))\n",
        "\n",
        "if __name__ == \"__main__\":\n",
        "  set1, set2 = get_user_input()\n",
        "  intersection = find_intersection(set1, set2)\n",
        "  print(\"Intersection:\", intersection)"
      ],
      "metadata": {
        "colab": {
          "base_uri": "https://localhost:8080/"
        },
        "id": "5EIE89fUp8Xy",
        "outputId": "2f426a0d-e288-4546-8420-f5086bad766f"
      },
      "execution_count": 19,
      "outputs": [
        {
          "output_type": "stream",
          "name": "stdout",
          "text": [
            "Enter the first set of integers (comma-separated): 3,4\n",
            "Enter the second set of integers (comma-separated): 4,5\n",
            "Intersection: [4]\n"
          ]
        }
      ]
    },
    {
      "cell_type": "code",
      "source": [
        "#23. Write a code to concatenate two tuples. The function should take two tuples as input and return a new\n",
        "# tuple containing elements from both input tuples.\n",
        "def concatenate_tuples(tuple1, tuple2):\n",
        "  \"\"\"\n",
        "  Concatenates two tuples.\n",
        "\n",
        "  Args:\n",
        "    tuple1: The first input tuple.\n",
        "    tuple2: The second input tuple.\n",
        "\n",
        "  Returns:\n",
        "    A new tuple containing elements from both input tuples.\n",
        "  \"\"\"\n",
        "\n",
        "  # Use the + operator to concatenate tuples\n",
        "  return tuple1 + tuple2\n",
        "\n",
        "# Example usage:\n",
        "tuple1 = (1, 2, 3)\n",
        "tuple2 = (4, 5, 6)\n",
        "concatenated_tuple = concatenate_tuples(tuple1, tuple2)\n",
        "print(\"Concatenated tuple:\", concatenated_tuple)  # Output: (1, 2, 3, 4, 5, 6)"
      ],
      "metadata": {
        "colab": {
          "base_uri": "https://localhost:8080/"
        },
        "id": "SzQK6MsqqehD",
        "outputId": "95834aa0-46ff-4748-e2cd-33a7efab9159"
      },
      "execution_count": 20,
      "outputs": [
        {
          "output_type": "stream",
          "name": "stdout",
          "text": [
            "Concatenated tuple: (1, 2, 3, 4, 5, 6)\n"
          ]
        }
      ]
    },
    {
      "cell_type": "code",
      "source": [
        "#24. Develop a code that prompts the user to input two sets of strings. Then, print the elements that are\n",
        "#present in the first set but not in the second set\n",
        "def get_user_input():\n",
        "  \"\"\"\n",
        "  Prompts the user to enter two sets of strings separated by commas.\n",
        "\n",
        "  Returns:\n",
        "    A tuple containing two lists, each representing a set of strings.\n",
        "  \"\"\"\n",
        "  set1_str = input(\"Enter the first set of strings (comma-separated): \")\n",
        "  set2_str = input(\"Enter the second set of strings (comma-separated): \")\n",
        "\n",
        "  set1 = set1_str.split(',')\n",
        "  set2 = set2_str.split(',')\n",
        "  return set1, set2\n",
        "\n",
        "def find_set_difference(set1, set2):\n",
        "  \"\"\"\n",
        "  Finds the elements present in the first set but not in the second set.\n",
        "\n",
        "  Args:\n",
        "    set1: The first set of strings.\n",
        "    set2: The second set of strings.\n",
        "\n",
        "  Returns:\n",
        "    A list containing the elements in set1 that are not in set2.\n",
        "  \"\"\"\n",
        "  set1 = set(set1)  # Convert lists to sets for efficient set operations\n",
        "  set2 = set(set2)\n",
        "  return list(set1 - set2)\n",
        "\n",
        "if __name__ == \"__main__\":\n",
        "  set1, set2 = get_user_input()\n",
        "  difference = find_set_difference(set1, set2)\n",
        "  print(\"Elements in set1 but not in set2:\", difference)"
      ],
      "metadata": {
        "colab": {
          "base_uri": "https://localhost:8080/"
        },
        "id": "NTOGsufzq7us",
        "outputId": "9a79ed59-9fb7-4fa0-d214-4cb3e162fddb"
      },
      "execution_count": 21,
      "outputs": [
        {
          "output_type": "stream",
          "name": "stdout",
          "text": [
            "Enter the first set of strings (comma-separated): Rehan, Iftekhar\n",
            "Enter the second set of strings (comma-separated): Uzma,Iqbal\n",
            "Elements in set1 but not in set2: ['Rehan', ' Iftekhar']\n"
          ]
        }
      ]
    },
    {
      "cell_type": "code",
      "source": [
        "#25. Create a code that takes a tuple and two integers as input. The function should return a new tuple\n",
        "#containing elements from the original tuple within the specified range of indices.\n",
        "def slice_tuple(tuple1, start, end):\n",
        "  \"\"\"\n",
        "  Slices a tuple and returns a new tuple containing elements\n",
        "  within the specified range of indices.\n",
        "\n",
        "  Args:\n",
        "    tuple1: The input tuple.\n",
        "    start: The starting index (inclusive).\n",
        "    end: The ending index (exclusive).\n",
        "\n",
        "  Returns:\n",
        "    A new tuple containing the sliced elements.\n",
        "  \"\"\"\n",
        "\n",
        "  return tuple1[start:end]\n",
        "\n",
        "# Example usage:\n",
        "my_tuple = (1, 2, 3, 4, 5, 6)\n",
        "start_index = 1\n",
        "end_index = 4\n",
        "\n",
        "sliced_tuple = slice_tuple(my_tuple, start_index, end_index)\n",
        "print(\"Sliced tuple:\", sliced_tuple)  # Output: (2, 3, 4)"
      ],
      "metadata": {
        "colab": {
          "base_uri": "https://localhost:8080/"
        },
        "id": "yb3DFwPPtpTK",
        "outputId": "6feffcd2-5fc6-497c-9df8-b76ea3c7af6f"
      },
      "execution_count": 22,
      "outputs": [
        {
          "output_type": "stream",
          "name": "stdout",
          "text": [
            "Sliced tuple: (2, 3, 4)\n"
          ]
        }
      ]
    },
    {
      "cell_type": "code",
      "source": [
        "#26.Write a code that prompts the user to input two sets of characters. Then, print the union of these two sets\n",
        "def get_user_input():\n",
        "  \"\"\"\n",
        "  Prompts the user to enter two sets of characters separated by commas.\n",
        "\n",
        "  Returns:\n",
        "    A tuple containing two sets of characters.\n",
        "  \"\"\"\n",
        "  set1_str = input(\"Enter the first set of characters (comma-separated): \")\n",
        "  set2_str = input(\"Enter the second set of characters (comma-separated): \")\n",
        "\n",
        "  set1 = set(set1_str)\n",
        "  set2 = set(set2_str)\n",
        "  return set1, set2\n",
        "\n",
        "def find_union(set1, set2):\n",
        "  \"\"\"\n",
        "  Finds the union of two sets of characters.\n",
        "\n",
        "  Args:\n",
        "    set1: The first set of characters.\n",
        "    set2: The second set of characters.\n",
        "\n",
        "  Returns:\n",
        "    A set containing the unique characters from both input sets.\n",
        "  \"\"\"\n",
        "  return set1.union(set2)\n",
        "\n",
        "if __name__ == \"__main__\":\n",
        "  set1, set2 = get_user_input()\n",
        "  union_set = find_union(set1, set2)\n",
        "  print(\"Union of the sets:\", union_set)"
      ],
      "metadata": {
        "colab": {
          "base_uri": "https://localhost:8080/"
        },
        "id": "iiAxfzZ3uoLn",
        "outputId": "dd7e401b-b45a-463a-c344-a01152a4baa4"
      },
      "execution_count": 23,
      "outputs": [
        {
          "output_type": "stream",
          "name": "stdout",
          "text": [
            "Enter the first set of characters (comma-separated): re\n",
            "Enter the second set of characters (comma-separated): re\n",
            "Union of the sets: {'r', 'e'}\n"
          ]
        }
      ]
    },
    {
      "cell_type": "code",
      "source": [
        "#27. Develop a code that takes a tuple of integers as input. The function should return the maximum and\n",
        "# minimum values from the tuple using tuple unpacking.\n",
        "def find_max_min(tuple_of_ints):\n",
        "  \"\"\"\n",
        "  Finds the maximum and minimum values in a tuple of integers.\n",
        "\n",
        "  Args:\n",
        "    tuple_of_ints: The input tuple of integers.\n",
        "\n",
        "  Returns:\n",
        "    A tuple containing the maximum and minimum values.\n",
        "  \"\"\"\n",
        "\n",
        "  if not tuple_of_ints:\n",
        "    return None, None  # Handle empty tuple\n",
        "\n",
        "  max_val = min_val = tuple_of_ints[0]\n",
        "\n",
        "  for num in tuple_of_ints[1:]:\n",
        "    max_val = max(max_val, num)\n",
        "    min_val = min(min_val, num)\n",
        "\n",
        "  return max_val, min_val\n",
        "\n",
        "# Example usage:\n",
        "my_tuple = (5, 2, 9, 1, 5, 6)\n",
        "max_value, min_value = find_max_min(my_tuple)\n",
        "print(\"Maximum value:\", max_value)\n",
        "print(\"Minimum value:\", min_value)"
      ],
      "metadata": {
        "colab": {
          "base_uri": "https://localhost:8080/"
        },
        "id": "Pu7VPj-OvKxe",
        "outputId": "10bc0dd9-8cd7-4807-b5f7-0d8375ddc0df"
      },
      "execution_count": 24,
      "outputs": [
        {
          "output_type": "stream",
          "name": "stdout",
          "text": [
            "Maximum value: 9\n",
            "Minimum value: 1\n"
          ]
        }
      ]
    },
    {
      "cell_type": "code",
      "source": [
        "#28. Create a code that defines two sets of integers. Then, print the union, intersection, and difference of these two sets.\n",
        "set1 = {1, 2, 3, 4, 5}\n",
        "set2 = {3, 4, 5, 6, 7}\n",
        "\n",
        "# Union of sets\n",
        "union_set = set1.union(set2)\n",
        "print(\"Union of sets:\", union_set)\n",
        "\n",
        "# Intersection of sets\n",
        "intersection_set = set1.intersection(set2)\n",
        "print(\"Intersection of sets:\", intersection_set)\n",
        "\n",
        "# Difference of sets (set1 - set2)\n",
        "difference_set1 = set1 - set2\n",
        "print(\"Difference of sets (set1 - set2):\", difference_set1)\n",
        "\n",
        "# Difference of sets (set2 - set1)\n",
        "difference_set2 = set2 - set1\n",
        "print(\"Difference of sets (set2 - set1):\", difference_set2)"
      ],
      "metadata": {
        "colab": {
          "base_uri": "https://localhost:8080/"
        },
        "id": "AH5-gaszvkcI",
        "outputId": "2b9d8d10-f6cb-4da4-e4ac-8b31e3b5695b"
      },
      "execution_count": 25,
      "outputs": [
        {
          "output_type": "stream",
          "name": "stdout",
          "text": [
            "Union of sets: {1, 2, 3, 4, 5, 6, 7}\n",
            "Intersection of sets: {3, 4, 5}\n",
            "Difference of sets (set1 - set2): {1, 2}\n",
            "Difference of sets (set2 - set1): {6, 7}\n"
          ]
        }
      ]
    },
    {
      "cell_type": "code",
      "source": [
        "#29.Write a code that takes a tuple and an element as input. The function should return the count of\n",
        "# occurrences of the given element in the tuple\n",
        "def count_occurrences(tuple1, element):\n",
        "  \"\"\"\n",
        "  Counts the occurrences of a given element in a tuple.\n",
        "\n",
        "  Args:\n",
        "    tuple1: The input tuple.\n",
        "    element: The element to be counted.\n",
        "\n",
        "  Returns:\n",
        "    The count of occurrences of the element in the tuple.\n",
        "  \"\"\"\n",
        "\n",
        "  count = 0\n",
        "  for item in tuple1:\n",
        "    if item == element:\n",
        "      count += 1\n",
        "  return count\n",
        "\n",
        "# Example usage:\n",
        "my_tuple = (1, 2, 3, 2, 1, 4, 2)\n",
        "element_to_count = 2\n",
        "count = count_occurrences(my_tuple, element_to_count)\n",
        "print(\"Count of\", element_to_count, \"in the tuple:\", count)  # Output: Count of 2 in the tuple: 3"
      ],
      "metadata": {
        "colab": {
          "base_uri": "https://localhost:8080/"
        },
        "id": "5m1pIhElvwk1",
        "outputId": "c25bbcef-19d0-4cdd-8eef-1ac25f44cc02"
      },
      "execution_count": 26,
      "outputs": [
        {
          "output_type": "stream",
          "name": "stdout",
          "text": [
            "Count of 2 in the tuple: 3\n"
          ]
        }
      ]
    },
    {
      "cell_type": "code",
      "source": [
        "#30. Develop a code that prompts the user to input two sets of strings. Then, print the symmetric difference of these two sets.\n",
        "def get_user_input():\n",
        "  \"\"\"\n",
        "  Prompts the user to enter two sets of strings separated by commas.\n",
        "\n",
        "  Returns:\n",
        "    A tuple containing two sets of strings.\n",
        "  \"\"\"\n",
        "  set1_str = input(\"Enter the first set of strings (comma-separated): \")\n",
        "  set2_str = input(\"Enter the second set of strings (comma-separated): \")\n",
        "\n",
        "  set1 = set(set1_str.split(','))\n",
        "  set2 = set(set2_str.split(','))\n",
        "  return set1, set2\n",
        "\n",
        "def find_symmetric_difference(set1, set2):\n",
        "  \"\"\"\n",
        "  Finds the symmetric difference of two sets of strings.\n",
        "\n",
        "  Args:\n",
        "    set1: The first set of strings.\n",
        "    set2: The second set of strings.\n",
        "\n",
        "  Returns:\n",
        "    A set containing the elements that are in either set1 or set2,\n",
        "    but not in both.\n",
        "  \"\"\"\n",
        "  return set1.symmetric_difference(set2)\n",
        "\n",
        "if __name__ == \"__main__\":\n",
        "  set1, set2 = get_user_input()\n",
        "  symmetric_difference = find_symmetric_difference(set1, set2)\n",
        "  print(\"Symmetric difference of the sets:\", symmetric_difference)"
      ],
      "metadata": {
        "colab": {
          "base_uri": "https://localhost:8080/"
        },
        "id": "RStnMbcjwu9q",
        "outputId": "97be2ccd-aa09-4698-bc7f-62644eb095c8"
      },
      "execution_count": 27,
      "outputs": [
        {
          "output_type": "stream",
          "name": "stdout",
          "text": [
            "Enter the first set of strings (comma-separated): Rehan, Shaikh\n",
            "Enter the second set of strings (comma-separated): Uzma, Shaikh\n",
            "Symmetric difference of the sets: {'Rehan', 'Uzma'}\n"
          ]
        }
      ]
    },
    {
      "cell_type": "code",
      "source": [
        "#31. Write a code that takes a list of words as input and returns a dictionary where the keys are unique words\n",
        " # and the values are the frequencies of those words in the input list.\n",
        "def count_word_frequencies(words):\n",
        "  \"\"\"\n",
        "  Counts the frequencies of words in a list.\n",
        "\n",
        "  Args:\n",
        "    words: A list of words.\n",
        "\n",
        "  Returns:\n",
        "    A dictionary where keys are unique words and values are their frequencies.\n",
        "  \"\"\"\n",
        "  word_counts = {}\n",
        "  for word in words:\n",
        "    if word in word_counts:\n",
        "      word_counts[word] += 1\n",
        "    else:\n",
        "      word_counts[word] = 1\n",
        "  return word_counts\n",
        "\n",
        "# Example usage:\n",
        "word_list = [\"apple\", \"banana\", \"apple\", \"cherry\", \"banana\", \"apple\"]\n",
        "word_frequencies = count_word_frequencies(word_list)\n",
        "print(word_frequencies)  # Output: {'apple': 3, 'banana': 2, 'cherry': 1}"
      ],
      "metadata": {
        "colab": {
          "base_uri": "https://localhost:8080/"
        },
        "id": "U3NxMXbZw9g6",
        "outputId": "f9f65f25-d7e6-4113-8afb-cb6e2bbeff11"
      },
      "execution_count": 29,
      "outputs": [
        {
          "output_type": "stream",
          "name": "stdout",
          "text": [
            "{'apple': 3, 'banana': 2, 'cherry': 1}\n"
          ]
        }
      ]
    },
    {
      "cell_type": "code",
      "source": [
        "#32.Write a code that takes two dictionaries as input and merges them into a single dictionary. If there are\n",
        "# common keys, the values should be added together.\n",
        "def merge_dictionaries(dict1, dict2):\n",
        "  \"\"\"\n",
        "  Merges two dictionaries, adding values for common keys.\n",
        "\n",
        "  Args:\n",
        "    dict1: The first dictionary.\n",
        "    dict2: The second dictionary.\n",
        "\n",
        "  Returns:\n",
        "    A new dictionary containing the merged key-value pairs.\n",
        "  \"\"\"\n",
        "\n",
        "  merged_dict = {}\n",
        "\n",
        "  # Add all key-value pairs from dict1\n",
        "  for key, value in dict1.items():\n",
        "    merged_dict[key] = value\n",
        "\n",
        "  # Add all key-value pairs from dict2, adding values for common keys\n",
        "  for key, value in dict2.items():\n",
        "    if key in merged_dict:\n",
        "      merged_dict[key] += value\n",
        "    else:\n",
        "      merged_dict[key] = value\n",
        "\n",
        "  return merged_dict\n",
        "\n",
        "# Example usage:\n",
        "dict1 = {'a': 1, 'b': 2, 'c': 3}\n",
        "dict2 = {'b': 4, 'c': 5, 'd': 6}\n",
        "\n",
        "merged_dict = merge_dictionaries(dict1, dict2)\n",
        "print(\"Merged dictionary:\", merged_dict)  # Output: {'a': 1, 'b': 6, 'c': 8, 'd': 6}"
      ],
      "metadata": {
        "colab": {
          "base_uri": "https://localhost:8080/"
        },
        "id": "ijhimyHRxWzb",
        "outputId": "dc6a06d3-4985-4633-efa8-e3b6a4ec3050"
      },
      "execution_count": 30,
      "outputs": [
        {
          "output_type": "stream",
          "name": "stdout",
          "text": [
            "Merged dictionary: {'a': 1, 'b': 6, 'c': 8, 'd': 6}\n"
          ]
        }
      ]
    },
    {
      "cell_type": "code",
      "source": [
        "#33. Write a code to access a value in a nested dictionary. The function should take the dictionary and a list of\n",
        "# keys as input, and return the corresponding value. If any of the keys do not exist in the dictionary, the\n",
        "#function should return None.\n",
        "def access_nested_value(dictionary, keys):\n",
        "  \"\"\"\n",
        "  Accesses a value in a nested dictionary.\n",
        "\n",
        "  Args:\n",
        "    dictionary: The input dictionary.\n",
        "    keys: A list of keys to access the nested value.\n",
        "\n",
        "  Returns:\n",
        "    The corresponding value if all keys exist, otherwise None.\n",
        "  \"\"\"\n",
        "\n",
        "  current_dict = dictionary\n",
        "  for key in keys:\n",
        "    if key not in current_dict:\n",
        "      return None  # Key not found\n",
        "    current_dict = current_dict[key]\n",
        "  return current_dict\n",
        "\n",
        "# Example usage:\n",
        "my_dict = {\n",
        "    'a': {\n",
        "        'b': {\n",
        "            'c': 123\n",
        "        }\n",
        "    }\n",
        "}\n",
        "\n",
        "keys1 = ['a', 'b', 'c']\n",
        "value1 = access_nested_value(my_dict, keys1)\n",
        "print(\"Value:\", value1)  # Output: Value: 123\n",
        "\n",
        "keys2 = ['a', 'x', 'c']\n",
        "value2 = access_nested_value(my_dict, keys2)\n",
        "print(\"Value:\", value2)  # Output: Value: None"
      ],
      "metadata": {
        "colab": {
          "base_uri": "https://localhost:8080/"
        },
        "id": "xek27-hlx8Js",
        "outputId": "c5aef271-ec65-491c-c1b9-31def2c3796a"
      },
      "execution_count": 33,
      "outputs": [
        {
          "output_type": "stream",
          "name": "stdout",
          "text": [
            "Value: 123\n",
            "Value: None\n"
          ]
        }
      ]
    },
    {
      "cell_type": "code",
      "source": [
        "#34.Write a code that takes a dictionary as input and returns a sorted version of it based on the values. You\n",
        "# can choose whether to sort in ascending or descending order.\n",
        "def sort_dictionary_by_values(dictionary, order=\"ascending\"):\n",
        "  \"\"\"\n",
        "  Sorts a dictionary by its values.\n",
        "\n",
        "  Args:\n",
        "    dictionary: The input dictionary.\n",
        "    order: \"ascending\" (default) or \"descending\".\n",
        "\n",
        "  Returns:\n",
        "    A list of tuples, where each tuple contains a key-value pair\n",
        "    sorted by the values.\n",
        "  \"\"\"\n",
        "\n",
        "  if order == \"ascending\":\n",
        "    return sorted(dictionary.items(), key=lambda x: x[1])\n",
        "  elif order == \"descending\":\n",
        "    return sorted(dictionary.items(), key=lambda x: x[1], reverse=True)\n",
        "  else:\n",
        "    raise ValueError(\"Invalid order. Please specify 'ascending' or 'descending'.\")\n",
        "\n",
        "# Example usage:\n",
        "my_dict = {'a': 3, 'b': 1, 'c': 2, 'd': 3}\n",
        "\n",
        "sorted_dict_asc = sort_dictionary_by_values(my_dict)\n",
        "print(\"Ascending order:\", sorted_dict_asc)  # Output: [('b', 1), ('c', 2), ('a', 3), ('d', 3)]\n",
        "\n",
        "sorted_dict_desc = sort_dictionary_by_values(my_dict, \"descending\")\n",
        "print(\"Descending order:\", sorted_dict_desc)  # Output: [('a', 3), ('d', 3), ('c', 2), ('b', 1)]"
      ],
      "metadata": {
        "colab": {
          "base_uri": "https://localhost:8080/"
        },
        "id": "OUZQFvHJyc8s",
        "outputId": "fd540d11-0e35-4cf6-f73c-d5a5ae4381f2"
      },
      "execution_count": 34,
      "outputs": [
        {
          "output_type": "stream",
          "name": "stdout",
          "text": [
            "Ascending order: [('b', 1), ('c', 2), ('a', 3), ('d', 3)]\n",
            "Descending order: [('a', 3), ('d', 3), ('c', 2), ('b', 1)]\n"
          ]
        }
      ]
    },
    {
      "cell_type": "code",
      "source": [
        "'''35.Write a code that inverts a dictionary, swapping keys and values. Ensure that the inverted dictionary\n",
        "correctly handles cases where multiple keys have the same value by storing the keys as a list in the\n",
        "inverted dictionary.'''\n",
        "def invert_dictionary(dictionary):\n",
        "  \"\"\"\n",
        "  Inverts a dictionary, swapping keys and values.\n",
        "\n",
        "  Handles cases where multiple keys have the same value by storing the keys\n",
        "  as a list in the inverted dictionary.\n",
        "\n",
        "  Args:\n",
        "    dictionary: The input dictionary.\n",
        "\n",
        "  Returns:\n",
        "    The inverted dictionary.\n",
        "  \"\"\"\n",
        "\n",
        "  inverted_dict = {}\n",
        "  for key, value in dictionary.items():\n",
        "    if value in inverted_dict:\n",
        "      inverted_dict[value].append(key)\n",
        "    else:\n",
        "      inverted_dict[value] = [key]\n",
        "  return inverted_dict\n",
        "\n",
        "# Example usage:\n",
        "my_dict = {'a': 1, 'b': 2, 'c': 1, 'd': 3, 'e': 2}\n",
        "inverted_dict = invert_dictionary(my_dict)\n",
        "print(\"Inverted dictionary:\", inverted_dict)"
      ],
      "metadata": {
        "colab": {
          "base_uri": "https://localhost:8080/"
        },
        "id": "Q2Y8Uglxyt4o",
        "outputId": "c6db3902-daf4-402d-c119-40da57330400"
      },
      "execution_count": 35,
      "outputs": [
        {
          "output_type": "stream",
          "name": "stdout",
          "text": [
            "Inverted dictionary: {1: ['a', 'c'], 2: ['b', 'e'], 3: ['d']}\n"
          ]
        }
      ]
    },
    {
      "cell_type": "code",
      "source": [],
      "metadata": {
        "id": "D4zpB53PzFHc"
      },
      "execution_count": null,
      "outputs": []
    }
  ]
}