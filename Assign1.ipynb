{
  "nbformat": 4,
  "nbformat_minor": 0,
  "metadata": {
    "colab": {
      "provenance": []
    },
    "kernelspec": {
      "name": "python3",
      "display_name": "Python 3"
    },
    "language_info": {
      "name": "python"
    }
  },
  "cells": [
    {
      "cell_type": "code",
      "execution_count": 2,
      "metadata": {
        "colab": {
          "base_uri": "https://localhost:8080/",
          "height": 106
        },
        "id": "4CV302yuwZ6i",
        "outputId": "31fb7b92-43bc-49b9-b606-53ffddb2c148"
      },
      "outputs": [
        {
          "output_type": "error",
          "ename": "SyntaxError",
          "evalue": "incomplete input (<ipython-input-2-3493ab1b6161>, line 1)",
          "traceback": [
            "\u001b[0;36m  File \u001b[0;32m\"<ipython-input-2-3493ab1b6161>\"\u001b[0;36m, line \u001b[0;32m1\u001b[0m\n\u001b[0;31m    \"\"\" Question 1.explain the key features of python that make it a popular choice for programming\u001b[0m\n\u001b[0m    ^\u001b[0m\n\u001b[0;31mSyntaxError\u001b[0m\u001b[0;31m:\u001b[0m incomplete input\n"
          ]
        }
      ],
      "source": [
        "\n",
        "\"\"\" Question 1.explain the key features of python that make it a popular choice for programming\n",
        "\n",
        " 1. Easy to Learn and Use: Python has a clear and readable syntax, making it relatively easy to learn and use, even for beginners. This is a major advantage in Colab, where users may have varying levels of programming experience.\n",
        "\n",
        "2. Extensive Libraries: Python boasts a vast collection of libraries for various tasks, such as data analysis (NumPy, Pandas), machine learning (Scikit-learn, TensorFlow), and visualization (Matplotlib, Seaborn). These libraries are readily available in Colab, simplifying the development process.\n",
        "\n",
        "3. Large and Active Community: Python has a large and active community of users and developers, providing ample resources for support and collaboration. This community-driven approach ensures that there is a wealth of information and assistance available online.\n",
        "\n",
        "4. Versatility: Python can be used for a wide range of applications, from web development and scripting to data science and machine learning. This versatility makes it a valuable tool in Colab, which is often used for diverse tasks.\n",
        "\n",
        "5. Free and Open Source: Python is free to use and distribute, and its source code is openly available. This open-source nature fosters transparency and collaboration, making it a popular choice for research and development.\n",
        "\n",
        "6. Cross-Platform Compatibility: Python can run on various operating systems, including Windows, macOS, and Linux. This cross-platform compatibility ensures that code written in Colab can be easily shared and executed on different platforms.\n",
        "\n",
        "7. Interpreted Language: Python is an interpreted language, meaning that code is executed line by line, making it easier to debug and test. This interactive nature is well-suited for the Colab environment, which allows users to execute code snippets and see results immediately.\n",
        "\n",
        "8. Object-Oriented Programming: Python supports object-oriented programming (OOP) principles, allowing users to create reusable and modular code. This feature is particularly useful for building complex applications in Colab, where code organization and reusability are important.\n",
        "\n",
        "9. Integration with Google Colab: Python is tightly integrated with Google Colab, providing seamless access to its features and resources. This integration makes Python a natural choice for working in Colab.\n",
        "\n",
        "10. Data Science and Machine Learning Focus: Python has become the go-to language for data science and machine learning due to its rich ecosystem of libraries and tools. Colab's focus on these fields further strengthens Python's position as the preferred language. \"\"\"\n",
        "```\n"
      ]
    },
    {
      "cell_type": "code",
      "source": [],
      "metadata": {
        "id": "buKJevcky5-2"
      },
      "execution_count": null,
      "outputs": []
    },
    {
      "cell_type": "code",
      "source": [
        "\"\"\"\n",
        "Question 2. Describe the role of predefined keywords in python and provide examples of how they are used in a program.\n",
        "\n",
        "Role of Predefined Keywords :\n",
        "\n",
        "In Python, predefined keywords are reserved words that have specific meanings and functionalities within the language.\n",
        "They cannot be used as identifiers (variable names, function names, etc.).\n",
        " These keywords form the fundamental building blocks of the language and are used to define the structure and logic of Python programs.\n",
        "\n",
        "Examples of Predefined Keywords and Their Usage :\n",
        "\n",
        "if, elif, else: Used for conditional execution of code blocks. \"\"\"\n",
        "\n",
        "age= 25\n",
        "if age < 18:\n",
        "    print(\"You are a minor.\")\n",
        "elif age >= 18 and age < 65:\n",
        "    print(\"You are an adult.\")\n",
        "else:\n",
        "    print(\"You are a senior citizen.\")"
      ],
      "metadata": {
        "colab": {
          "base_uri": "https://localhost:8080/"
        },
        "id": "Nqw-oMP9xSXl",
        "outputId": "5d7e55f8-7e32-4422-bff0-186511e1d304"
      },
      "execution_count": 6,
      "outputs": [
        {
          "output_type": "stream",
          "name": "stdout",
          "text": [
            "You are an adult.\n"
          ]
        }
      ]
    },
    {
      "cell_type": "code",
      "source": [
        "\n",
        "  #Example 2 : for, while: Used for creating loops to iterate over sequences or execute code repeatedly.\n",
        "  for i in range(5):\n",
        "    print(i)\n",
        "\n",
        "    count= 0\n",
        "    while count < 5:\n",
        "        print(count)\n",
        "        count += 1\n",
        "\n",
        "\n",
        ""
      ],
      "metadata": {
        "colab": {
          "base_uri": "https://localhost:8080/"
        },
        "collapsed": true,
        "id": "1cyuIXJmy_Vo",
        "outputId": "b1dee576-7e32-417c-ffa5-d1e0b3046e86"
      },
      "execution_count": 7,
      "outputs": [
        {
          "output_type": "stream",
          "name": "stdout",
          "text": [
            "0\n",
            "0\n",
            "1\n",
            "2\n",
            "3\n",
            "4\n",
            "1\n",
            "0\n",
            "1\n",
            "2\n",
            "3\n",
            "4\n",
            "2\n",
            "0\n",
            "1\n",
            "2\n",
            "3\n",
            "4\n",
            "3\n",
            "0\n",
            "1\n",
            "2\n",
            "3\n",
            "4\n",
            "4\n",
            "0\n",
            "1\n",
            "2\n",
            "3\n",
            "4\n"
          ]
        }
      ]
    },
    {
      "cell_type": "code",
      "source": [
        "#Q.3. Compare and contrast mutable and immutable objects in python with examples\n",
        "\"\"\"\n",
        " Mutable Objects\n",
        "\n",
        "Mutable objects are those whose internal state can be changed after they are created. This means you can modify the object's data without creating a new object.\n",
        "\n",
        "Example:\n",
        "\n",
        "Lists: You can add, remove, or modify elements within a list.\n",
        "\"\"\"\n",
        "my_list = [1, 2, 3]\n",
        "my_list.append(4)  # Modifying the list by adding an element\n",
        "print(my_list)\n",
        "\n",
        "\"\"\"\n",
        "Immutable Objects\n",
        "\n",
        "Immutable objects are those whose internal state cannot be changed after they are created. Any operation that appears to modify an immutable object actually creates a new object with the modified value.\n",
        "\n",
        "Example:\n",
        "\n",
        "Numbers (int, float, complex):\n",
        "\"\"\"\n",
        "x= 5\n",
        "y= x + 2\n",
        "print (x)\n",
        "print (y)\n",
        "\n",
        "\n"
      ],
      "metadata": {
        "colab": {
          "base_uri": "https://localhost:8080/"
        },
        "id": "9Mh-M3AnzzWn",
        "outputId": "66ce5b0c-01bd-40f8-f8d2-61d7205da8f2"
      },
      "execution_count": 14,
      "outputs": [
        {
          "output_type": "stream",
          "name": "stdout",
          "text": [
            "[1, 2, 3, 4]\n",
            "5\n",
            "7\n"
          ]
        }
      ]
    },
    {
      "cell_type": "code",
      "source": [
        "#Q.4. Discuss the different types of operators in python and provide examples of how they are used.\n",
        "\"\"\"\n",
        "Operators in Python\n",
        "Operators are special symbols in Python that carry out arithmetic or logical computation. The value that the operator operates on is called the operand.\n",
        "\n",
        "Here's a breakdown of the different types of operators in Python:\n",
        "\n",
        "1. Arithmetic Operators\n",
        "These operators are used to perform mathematical operations.\n",
        "Example :\n",
        "\"\"\"\n",
        "a= 10\n",
        "b= 5\n",
        "print(a + b) #addition of two variables\n",
        "\n",
        "\"\"\"\n",
        "2. Comparison Operators\n",
        "These operators are used to compare two values. \"\"\"\n",
        "a = 10\n",
        "b = 5\n",
        "\n",
        "# Equal to\n",
        "print(a == b)  # Output: False\n",
        "\n",
        "# Not equal to\n",
        "print(a != b)  # Output: True\n",
        "\n",
        "# Greater than\n",
        "print(a > b)  # Output: True\n",
        "\n",
        "# Less than\n",
        "print(a < b)  # Output: False\n",
        "\n",
        "# Greater than or equal to\n",
        "print(a >= b)  # Output: True\n",
        "\n",
        "# Less than or equal to\n",
        "print(a <= b)  # Output: False\n",
        "\n",
        "\"\"\"\n",
        "3. Logical Operators\n",
        "These operators are used to combine conditional statements \"\"\"\n",
        "\n",
        "a = True\n",
        "b = False\n",
        "\n",
        "# and (Returns True if both statements are true)\n",
        "print(a and b)  # Output: False\n",
        "\n",
        "# or (Returns True if one of the statements is true)\n",
        "print(a or b)  # Output: True\n",
        "\n",
        "# not (Reverse the result, returns False if the result is true)\n",
        "print(not a)  # Output: False\n",
        "\n",
        "\"\"\"\n",
        "4. Assignment Operators\n",
        "These operators are used to assign values to variables. \"\"\"\n",
        "a = 10\n",
        "\n",
        "# Assign value\n",
        "a = 5\n",
        "\n",
        "# Add and assign\n",
        "a += 5  # Equivalent to a = a + 5; a is now 10\n",
        "\n",
        "# Subtract and assign\n",
        "a -= 3  # Equivalent to a = a - 3; a is now 7\n",
        "\n",
        "# Multiply and assign\n",
        "a *= 2  # Equivalent to a = a * 2; a is now 14\n",
        "\n",
        "# Divide and assign\n",
        "a /= 7  # Equivalent to a = a / 7; a is now 2.0\n",
        "\n",
        "# And so on for other arithmetic operators...\n",
        "\n",
        "\"\"\"\n",
        "5. Bitwise Operators\n",
        "These operators act on bits and perform bit-by-bit operations.\n",
        " They are less commonly used in everyday programming but are important for low-level tasks.\n",
        "\"\"\"\n",
        "a = 10  # Binary: 1010\n",
        "b = 4   # Binary: 0100\n",
        "\n",
        "# Bitwise AND\n",
        "print(a & b)  # Output: 0 (Binary: 0000)\n",
        "\n",
        "# Bitwise OR\n",
        "print(a | b)  # Output: 14 (Binary: 1110)\n",
        "\n",
        "# Bitwise XOR\n",
        "print(a ^ b)  # Output: 14 (Binary: 1110)\n",
        "\n",
        "# Bitwise NOT\n",
        "print(~a)   # Output: -11 (Binary: ...)\n",
        "\n",
        "# Bitwise left shift\n",
        "print(a << 2) # Output: 40 (Binary: 101000)\n",
        "\n",
        "# Bitwise right shift\n",
        "print(a >> 2) # Output: 2 (Binary: 10)\n",
        "\n",
        "\"\"\"\n",
        "6. Membership Operators\n",
        "These operators test for membership in\n",
        "a sequence, such as strings, lists, or tuples. \"\"\"\n",
        "\n",
        "my_list = [1, 2, 3, 4]\n",
        "x = 3\n",
        "\n",
        "# in (Returns True if a sequence with the specified value is present in the object)\n",
        "print(x in my_list)  # Output: True\n",
        "\n",
        "# not in (Returns True if a sequence with the specified value is not present in the object)\n",
        "print(x not in my_list)  # Output: False\n",
        "\n",
        "# 7. Identity Operators\n",
        "x = [1, 2, 3]\n",
        "y = x\n",
        "z = [1, 2, 3]\n",
        "\n",
        "# is (Returns True if both variables are the same object)\n",
        "print(x is y)  # Output: True\n",
        "print(x is z)  # Output: False\n",
        "\n"
      ],
      "metadata": {
        "colab": {
          "base_uri": "https://localhost:8080/"
        },
        "id": "rb962p2x0dw1",
        "outputId": "048cab7c-5bde-436c-edb9-a0749b4b73cc"
      },
      "execution_count": 16,
      "outputs": [
        {
          "output_type": "stream",
          "name": "stdout",
          "text": [
            "15\n"
          ]
        }
      ]
    },
    {
      "cell_type": "code",
      "source": [
        "#5. Explain the concept of type casting in python with examples.\n",
        "\n",
        "\"\"\"\n",
        "Type casting, also known as type conversion, is the process of converting a variable's data type into another data type.\n",
        " In Python, you can change the data type of a variable using built-in functions.\n",
        " Here are some of the commonly used type casting functions in Python:\n",
        "\n",
        "int(): Converts a value to an integer.\n",
        "float(): Converts a value to a floating-point number.\n",
        "str(): Converts a value to a string.\n",
        "bool(): Converts a value to a boolean (True or False).\n",
        "list(): Converts a value to a list.\n",
        "tuple(): Converts a value to a tuple.\n",
        "set(): Converts a value to a set.\n",
        "dict(): Converts a value to a dictionary.\n",
        " \"\"\"\n",
        " #Examples :\n",
        "\n",
        " # Converting a string to an integer\n",
        "age_str = \"25\"\n",
        "age_int = int(age_str)\n",
        "print(age_int)  # Output: 25\n",
        "print(type(age_int))  # Output: <class 'int'>\n",
        "\n",
        "# Converting an integer to a float\n",
        "num_int = 10\n",
        "num_float = float(num_int)\n",
        "print(num_float)  # Output: 10.0\n",
        "print(type(num_float))  # Output: <class 'float'>\n",
        "\n",
        "# Converting a number to a string\n",
        "price = 19.99\n",
        "price_str = str(price)\n",
        "print(price_str)  # Output: \"19.99\"\n",
        "print(type(price_str))  # Output: <class 'str'>\n",
        "\n",
        "# Converting a list to a tuple\n",
        "my_list = [1, 2, 3]\n",
        "my_tuple = tuple(my_list)\n",
        "print(my_tuple)  # Output: (1, 2, 3)\n",
        "print(type(my_tuple))  # Output: <class 'tuple'>\n"
      ],
      "metadata": {
        "colab": {
          "base_uri": "https://localhost:8080/",
          "height": 122
        },
        "id": "ene3Rzxa2dVN",
        "outputId": "7130f4d9-1169-4362-c745-dfb8716081fa"
      },
      "execution_count": 18,
      "outputs": [
        {
          "output_type": "execute_result",
          "data": {
            "text/plain": [
              "\"\\nType casting, also known as type conversion, is the process of converting a variable's data type into another data type.\\n In Python, you can change the data type of a variable using built-in functions.\\n Here are some of the commonly used type casting functions in Python:\\n\\nint(): Converts a value to an integer.\\nfloat(): Converts a value to a floating-point number.\\nstr(): Converts a value to a string.\\nbool(): Converts a value to a boolean (True or False).\\nlist(): Converts a value to a list.\\ntuple(): Converts a value to a tuple.\\nset(): Converts a value to a set.\\ndict(): Converts a value to a dictionary.\\n \""
            ],
            "application/vnd.google.colaboratory.intrinsic+json": {
              "type": "string"
            }
          },
          "metadata": {},
          "execution_count": 18
        }
      ]
    },
    {
      "cell_type": "code",
      "source": [
        "#Q.6. How do conditional statements work in python? Illustrate with examples.\n",
        "\n",
        "\"\"\"\n",
        "Conditional Statements in Python :\n",
        "Conditional statements are fundamental programming constructs that allow you to control\n",
        "the flow of execution based on whether certain conditions are met.\n",
        "They empower your code to make decisions and execute different blocks of code depending on the truthiness\n",
        " or falsity of these conditions.\n",
        "\n",
        " Python offers three main types of conditional statements:\n",
        "\n",
        "if statement: The simplest form, it executes a block of code only if the specified condition evaluates to True.\n",
        "\n",
        "if-else statement: Extends the if statement by providing an alternative block of code to execute if the condition is False.\n",
        "\n",
        "if-elif-else statement: Allows you to check multiple conditions sequentially and execute different code blocks based on the first condition that evaluates to True.\n",
        " \"\"\"\n",
        " # Syntax and Examples\n",
        "\n",
        " age = 19\n",
        "\n",
        "if age >= 18:\n",
        "    print(\"You are eligible to vote!\")\n",
        "#In this case, if age is 18 or greater, the message \"You are eligible to vote!\" will be printed. Otherwise, nothing happens.\n",
        "\n",
        "#Example 2\n",
        "\n",
        "temperature = 25\n",
        "\n",
        "if temperature > 30:\n",
        "    print(\"It's a hot day!\")\n",
        "else:\n",
        "    print(\"It's not too hot today.\")\n",
        "  #Here, if temperature exceeds 30, \"It's a hot day!\" is printed. If not, \"It's not too hot today.\" is displayed.\n",
        "\n",
        "\n",
        "#Example 3\n",
        "\n",
        "score = 85\n",
        "\n",
        "if score >= 90:\n",
        "    grade = \"A\"\n",
        "elif score >= 80:\n",
        "    grade = \"B\"\n",
        "elif score >= 70:\n",
        "    grade = \"C\"\n",
        "else:\n",
        "    grade = \"D\"\n",
        "\n",
        "print(\"Your grade is:\", grade)\n",
        "# This example assigns a letter grade based on the score. It checks multiple conditions sequentially, and the first condition that evaluates to True determines the assigned grade. If none of the conditions are met, the else block assigns a grade of \"D\".\n",
        "\n",
        "\n"
      ],
      "metadata": {
        "id": "gPTdPzyo7MSS"
      },
      "execution_count": 19,
      "outputs": []
    },
    {
      "cell_type": "code",
      "source": [
        "# Q.7 : Describe the different types of loop in python and their use case with examples.\n",
        "\n",
        "\"\"\"\n",
        "Loop Types in Python:\n",
        "\n",
        "1. for loop:\n",
        "\n",
        "   - Use case: Iterating over a sequence (list, tuple, string, range) or other iterable objects.\n",
        "   - Example:\n",
        "\"\"\"\n",
        "my_list = [1, 2, 3, 4, 5]\n",
        "for item in my_list:\n",
        "    print(item)  # Output: 1 2 3 4 5\n",
        "\n",
        "\n",
        "my_string = \"Hello\"\n",
        "for char in my_string:\n",
        "    print(char)  # Output: H e l l o\n",
        "\n",
        "\n",
        "for i in range(5):  # range(5) creates a sequence of numbers from 0 to 4\n",
        "    print(i)  # Output: 0 1 2 3 4\n",
        "\n",
        "\n",
        "\"\"\"\n",
        "2. while loop:\n",
        "\n",
        "   - Use case: Repeating a block of code as long as a specified condition is true.\n",
        "   - Example:\n",
        "\"\"\"\n",
        "count = 0\n",
        "while count < 5:\n",
        "    print(count)\n",
        "    count += 1  # Output: 0 1 2 3 4\n",
        "\n",
        "\n",
        "\"\"\"\n",
        "3. Nested loops:\n",
        "\n",
        "   - Use case: Placing one loop inside another loop to iterate over multiple dimensions of data.\n",
        "   - Example:\n",
        "\"\"\"\n",
        "\n",
        "for i in range(3):  # Outer loop\n",
        "    for j in range(2):  # Inner loop\n",
        "        print(f\"i={i}, j={j}\")\n",
        "        # Output:\n",
        "        # i=0, j=0\n",
        "        # i=0, j=1\n",
        "        # i=1, j=0\n",
        "        # i=1, j=1\n",
        "        # i=2, j=0\n",
        "        # i=2, j=1\n",
        "\n",
        "\"\"\"\n",
        "Loop Control Statements:\n",
        "\n",
        "- break: Terminates the loop prematurely.\n",
        "- continue: Skips the current iteration and proceeds to the next iteration.\n",
        "- pass: Does nothing; acts as a placeholder when a statement is syntactically required.\n",
        "\n",
        "Examples:\n",
        "\"\"\"\n",
        "\n",
        "for i in range(10):\n",
        "    if i == 5:\n",
        "        break  # Exit the loop when i is 5\n",
        "    print(i)  # Output: 0 1 2 3 4\n",
        "\n",
        "\n",
        "for i in range(10):\n",
        "    if i % 2 == 0:\n",
        "        continue  # Skip even numbers\n",
        "    print(i)  # Output: 1 3 5 7 9\n",
        "\n",
        "\n",
        "for i in range(5):\n",
        "    pass  # Do nothing in the loop"
      ],
      "metadata": {
        "id": "USuBfMWE9Mny"
      },
      "execution_count": null,
      "outputs": []
    },
    {
      "cell_type": "markdown",
      "source": [],
      "metadata": {
        "id": "oUxfO92EAxbZ"
      }
    },
    {
      "cell_type": "markdown",
      "source": [],
      "metadata": {
        "id": "R6uZxJmGAxx3"
      }
    }
  ]
}